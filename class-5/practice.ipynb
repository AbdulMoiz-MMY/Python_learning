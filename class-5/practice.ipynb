{
 "cells": [
  {
   "cell_type": "code",
   "execution_count": 5,
   "metadata": {},
   "outputs": [
    {
     "name": "stdout",
     "output_type": "stream",
     "text": [
      "5\n",
      "5\n",
      "65\n",
      "6\n",
      "65\n"
     ]
    }
   ],
   "source": [
    "num1 = input(\"enter the 1st number:\")\n",
    "num2 = input(\"enter the 2nd number:\")\n",
    "num3 = input(\"enter the 3rd number:\")\n",
    "num4 = input(\"enter the 4th number:\")\n",
    "num5 = input(\"enter the 5th number:\")\n",
    "\n",
    "print(num1)\n",
    "print(num2)\n",
    "print(num3)\n",
    "print(num4)\n",
    "print(num5)"
   ]
  },
  {
   "cell_type": "code",
   "execution_count": null,
   "metadata": {},
   "outputs": [],
   "source": [
    "\n"
   ]
  }
 ],
 "metadata": {
  "kernelspec": {
   "display_name": "Python 3",
   "language": "python",
   "name": "python3"
  },
  "language_info": {
   "codemirror_mode": {
    "name": "ipython",
    "version": 3
   },
   "file_extension": ".py",
   "mimetype": "text/x-python",
   "name": "python",
   "nbconvert_exporter": "python",
   "pygments_lexer": "ipython3",
   "version": "3.12.4"
  }
 },
 "nbformat": 4,
 "nbformat_minor": 2
}
