{
 "cells": [
  {
   "cell_type": "code",
   "execution_count": 3,
   "metadata": {},
   "outputs": [
    {
     "name": "stdout",
     "output_type": "stream",
     "text": [
      "The total sum is: 1579\n"
     ]
    }
   ],
   "source": [
    "# Add two numbers\n",
    "\n",
    "# Write a Python program that takes two integer inputs from the user and calculates their sum. The program should perform the following tasks:\n",
    "\n",
    "# Prompt the user to enter the first number.\n",
    "# Read the input and convert it to an integer.\n",
    "# Prompt the user to enter the second number.\n",
    "# Read the input and convert it to an integer.\n",
    "# Calculate the sum of the two numbers.\n",
    "# Print the total sum with an appropriate message.\n",
    "\n",
    "\n",
    "\n",
    "num1 = int(input(\"Enter the 1st number:\"))\n",
    "num2 = int(input(\"Enter the 2nd number:\" ))\n",
    "\n",
    "sum = num1 + num2\n",
    "\n",
    "print(\"The total sum is:\",sum)"
   ]
  },
  {
   "cell_type": "code",
   "execution_count": 4,
   "metadata": {},
   "outputs": [
    {
     "name": "stdout",
     "output_type": "stream",
     "text": [
      "MY favorite animal is also cat \n",
      "<class 'str'>\n"
     ]
    }
   ],
   "source": [
    "\n",
    "\n",
    "\n",
    "\n",
    "# Write a program which asks the user what their favorite animal is, and then always responds with \"My favorite animal is also ___!\" (the blank should be filled in with the user-inputted animal, of course).\n",
    "\n",
    "# Here's a sample run of the program (user input is in bold italics - note the space between the prompt and the user input!):\n",
    "\n",
    "# What's your favorite animal? cow\n",
    "\n",
    "# My favorite animal is also cow!\n",
    "\n",
    "\n",
    "favorite_animal = str(input(\"What's your favorite animal?: \"))\n",
    "\n",
    "print(f\"MY favorite animal is also {favorite_animal} \")"
   ]
  },
  {
   "cell_type": "code",
   "execution_count": null,
   "metadata": {},
   "outputs": [],
   "source": []
  }
 ],
 "metadata": {
  "kernelspec": {
   "display_name": "Python 3",
   "language": "python",
   "name": "python3"
  },
  "language_info": {
   "codemirror_mode": {
    "name": "ipython",
    "version": 3
   },
   "file_extension": ".py",
   "mimetype": "text/x-python",
   "name": "python",
   "nbconvert_exporter": "python",
   "pygments_lexer": "ipython3",
   "version": "3.12.4"
  }
 },
 "nbformat": 4,
 "nbformat_minor": 2
}
